{
 "cells": [
  {
   "attachments": {},
   "cell_type": "markdown",
   "id": "33b48259",
   "metadata": {},
   "source": [
    "## Projet IA for HumanForYou"
   ]
  },
  {
   "attachments": {},
   "cell_type": "markdown",
   "id": "f8863e67",
   "metadata": {},
   "source": [
    "#### Groupe 5 :\n",
    "- Yanis MAAFI (PM)\n",
    "- Floriane Carette \n",
    "- Antoine Sire\n",
    "- Frederic Nguyen "
   ]
  },
  {
   "attachments": {},
   "cell_type": "markdown",
   "id": "99265dfa",
   "metadata": {},
   "source": [
    "### Définition du problème\n"
   ]
  },
  {
   "attachments": {},
   "cell_type": "markdown",
   "id": "507fe87e",
   "metadata": {},
   "source": [
    "HumanForYou est une entreprise de produits pharmaceutiques basée en Inde, qui emploie environ 4000 personnes. Cependant, chaque année, l'entreprise doit faire face à un taux de turn-over d'environ 15% de ses employés, ce qui nécessite de trouver des profils similaires sur le marché de l'emploi. La direction considère que ce niveau de turn-over a des conséquences négatives sur l'entreprise, car cela entraîne des retards dans les projets sur lesquels les employés quittant l'entreprise travaillaient, nuisant ainsi à la réputation de l'entreprise auprès de ses clients et partenaires. \n",
    "\n",
    "De plus, la gestion des ressources humaines devient plus complexe avec la nécessité de trouver des nouvelles recrues pour remplacer les anciennes. Enfin, le temps perdu à l'arrivée des nouveaux employés, qui doivent être formés et s'adapter à leur nouvel environnement, ralentit la productivité de l'entreprise.\n",
    "\n",
    "![TurnOver image](https://github.com/itsyanis/Machine-Learning-Project/blob/main/Data/images/TurnOver.png)\n",
    "\n",
    "Afin de remédier à ce problème, la direction de HumanForYou a fait appel à une équipe de spécialistes de l'analyse de données pour déterminer les facteurs ayant le plus d'influence sur le taux de turn-over. \n",
    "L'objectif est de proposer des modèles d'analyse pour identifier les pistes d'amélioration nécessaires pour inciter les employés à rester dans l'entreprise. \n"
   ]
  },
  {
   "attachments": {},
   "cell_type": "markdown",
   "id": "8aeff48f",
   "metadata": {},
   "source": [
    "### Livrable "
   ]
  },
  {
   "attachments": {},
   "cell_type": "markdown",
   "id": "90a7275c",
   "metadata": {},
   "source": [
    "Pour atteindre cet objectif, plusieurs étapes seront nécessaires, notamment la collecte de données pertinentes, le prétraitement de ces données pour s'assurer de leur qualité et de leur fiabilité, la création de modèles d'analyse prédictive pour identifier les facteurs ayant le plus d'influence sur le taux de turn-over, et la mise en place de mesures pour améliorer la rétention des employés. Ces mesures peuvent inclure des changements dans les politiques de ressources humaines, des améliorations des conditions de travail, ou des mesures incitatives pour les employés.\n",
    "\n",
    "Les démarches qui seront suivis dans ce livrable sont:\n",
    "\n",
    "- La génération du jeux de données en justifiant les choix et les traitements effectués pour faire face aux problématiques classiques de ce type de travail.\n",
    "\n",
    "- Le choix de (des) l'algorithme(s) d'\"IA\" retenu(s).\n",
    "\n",
    "- L'analyse des résultats obtenus et leur interprétation en s'appuyant sur des métriques.\n",
    "\n",
    "- La démarche mise en œuvre pour améliorer un modèle.\n",
    "\n",
    "- le choix du modèle retenu au final parmi les différents essais effectués en justifiant par rapport au besoin de votre client et des métriques.\n",
    "\n",
    "- Des propositions finales justifiées"
   ]
  },
  {
   "cell_type": "code",
   "execution_count": 84,
   "id": "92bcf423",
   "metadata": {},
   "outputs": [],
   "source": [
    "import pandas as pd\n",
    "import matplotlib.pyplot as plt\n",
    "import numpy as np"
   ]
  },
  {
   "cell_type": "markdown",
   "id": "0aa6247d",
   "metadata": {},
   "source": []
  },
  {
   "attachments": {},
   "cell_type": "markdown",
   "id": "fc1a62bf",
   "metadata": {},
   "source": [
    "### Etape 1 - Collect des données :"
   ]
  },
  {
   "cell_type": "code",
   "execution_count": 45,
   "id": "f41ee328",
   "metadata": {},
   "outputs": [],
   "source": [
    "general_data = pd.read_csv(\"./Data/general_data.csv\")\n",
    "employee_survey_data = pd.read_csv('./Data/employee_survey_data.csv')\n",
    "manager_survey_data = pd.read_csv('./Data/manager_survey_data.csv')\n",
    "\n",
    "in_time_data = pd.read_csv('./Data/in_time.csv')\n",
    "out_time_data = pd.read_csv('./Data/out_time.csv')"
   ]
  },
  {
   "attachments": {},
   "cell_type": "markdown",
   "id": "5d15e98f",
   "metadata": {},
   "source": [
    "Dans un premier temps nous allons fusionner les trois premiers DataFrame qui sont : \n",
    " - general_data\n",
    " - employee_survey_data\n",
    " - manager_survey_data\n",
    "\n",
    "Les DataFrames <strong>\"in_time_data\"</strong> et <strong>\"out_time_data\"</strong> nécessitent une manipulation particulière avant d'etre fusionnés, nous veront ça juste apres.\n",
    "\n",
    "Nous avons donc débuté notre processus de fusion en utilisant la fonction \"merge()\" de Pandas, qui nous permet de fusionner plusieurs DataFrames en utilisant la colonne <strong>EmployeeID </strong> comme clé de jointure."
   ]
  },
  {
   "cell_type": "code",
   "execution_count": 46,
   "id": "2c894045",
   "metadata": {},
   "outputs": [
    {
     "data": {
      "text/html": [
       "<div>\n",
       "<style scoped>\n",
       "    .dataframe tbody tr th:only-of-type {\n",
       "        vertical-align: middle;\n",
       "    }\n",
       "\n",
       "    .dataframe tbody tr th {\n",
       "        vertical-align: top;\n",
       "    }\n",
       "\n",
       "    .dataframe thead th {\n",
       "        text-align: right;\n",
       "    }\n",
       "</style>\n",
       "<table border=\"1\" class=\"dataframe\">\n",
       "  <thead>\n",
       "    <tr style=\"text-align: right;\">\n",
       "      <th></th>\n",
       "      <th>EmployeeID</th>\n",
       "      <th>EnvironmentSatisfaction</th>\n",
       "      <th>JobSatisfaction</th>\n",
       "      <th>WorkLifeBalance</th>\n",
       "      <th>Age</th>\n",
       "      <th>Attrition</th>\n",
       "      <th>BusinessTravel</th>\n",
       "      <th>Department</th>\n",
       "      <th>DistanceFromHome</th>\n",
       "      <th>Education</th>\n",
       "      <th>...</th>\n",
       "      <th>PercentSalaryHike</th>\n",
       "      <th>StandardHours</th>\n",
       "      <th>StockOptionLevel</th>\n",
       "      <th>TotalWorkingYears</th>\n",
       "      <th>TrainingTimesLastYear</th>\n",
       "      <th>YearsAtCompany</th>\n",
       "      <th>YearsSinceLastPromotion</th>\n",
       "      <th>YearsWithCurrManager</th>\n",
       "      <th>JobInvolvement</th>\n",
       "      <th>PerformanceRating</th>\n",
       "    </tr>\n",
       "  </thead>\n",
       "  <tbody>\n",
       "    <tr>\n",
       "      <th>0</th>\n",
       "      <td>1</td>\n",
       "      <td>3.0</td>\n",
       "      <td>4.0</td>\n",
       "      <td>2.0</td>\n",
       "      <td>51</td>\n",
       "      <td>No</td>\n",
       "      <td>Travel_Rarely</td>\n",
       "      <td>Sales</td>\n",
       "      <td>6</td>\n",
       "      <td>2</td>\n",
       "      <td>...</td>\n",
       "      <td>11</td>\n",
       "      <td>8</td>\n",
       "      <td>0</td>\n",
       "      <td>1.0</td>\n",
       "      <td>6</td>\n",
       "      <td>1</td>\n",
       "      <td>0</td>\n",
       "      <td>0</td>\n",
       "      <td>3</td>\n",
       "      <td>3</td>\n",
       "    </tr>\n",
       "    <tr>\n",
       "      <th>1</th>\n",
       "      <td>2</td>\n",
       "      <td>3.0</td>\n",
       "      <td>2.0</td>\n",
       "      <td>4.0</td>\n",
       "      <td>31</td>\n",
       "      <td>Yes</td>\n",
       "      <td>Travel_Frequently</td>\n",
       "      <td>Research &amp; Development</td>\n",
       "      <td>10</td>\n",
       "      <td>1</td>\n",
       "      <td>...</td>\n",
       "      <td>23</td>\n",
       "      <td>8</td>\n",
       "      <td>1</td>\n",
       "      <td>6.0</td>\n",
       "      <td>3</td>\n",
       "      <td>5</td>\n",
       "      <td>1</td>\n",
       "      <td>4</td>\n",
       "      <td>2</td>\n",
       "      <td>4</td>\n",
       "    </tr>\n",
       "    <tr>\n",
       "      <th>2</th>\n",
       "      <td>3</td>\n",
       "      <td>2.0</td>\n",
       "      <td>2.0</td>\n",
       "      <td>1.0</td>\n",
       "      <td>32</td>\n",
       "      <td>No</td>\n",
       "      <td>Travel_Frequently</td>\n",
       "      <td>Research &amp; Development</td>\n",
       "      <td>17</td>\n",
       "      <td>4</td>\n",
       "      <td>...</td>\n",
       "      <td>15</td>\n",
       "      <td>8</td>\n",
       "      <td>3</td>\n",
       "      <td>5.0</td>\n",
       "      <td>2</td>\n",
       "      <td>5</td>\n",
       "      <td>0</td>\n",
       "      <td>3</td>\n",
       "      <td>3</td>\n",
       "      <td>3</td>\n",
       "    </tr>\n",
       "    <tr>\n",
       "      <th>3</th>\n",
       "      <td>4</td>\n",
       "      <td>4.0</td>\n",
       "      <td>4.0</td>\n",
       "      <td>3.0</td>\n",
       "      <td>38</td>\n",
       "      <td>No</td>\n",
       "      <td>Non-Travel</td>\n",
       "      <td>Research &amp; Development</td>\n",
       "      <td>2</td>\n",
       "      <td>5</td>\n",
       "      <td>...</td>\n",
       "      <td>11</td>\n",
       "      <td>8</td>\n",
       "      <td>3</td>\n",
       "      <td>13.0</td>\n",
       "      <td>5</td>\n",
       "      <td>8</td>\n",
       "      <td>7</td>\n",
       "      <td>5</td>\n",
       "      <td>2</td>\n",
       "      <td>3</td>\n",
       "    </tr>\n",
       "    <tr>\n",
       "      <th>4</th>\n",
       "      <td>5</td>\n",
       "      <td>4.0</td>\n",
       "      <td>1.0</td>\n",
       "      <td>3.0</td>\n",
       "      <td>32</td>\n",
       "      <td>No</td>\n",
       "      <td>Travel_Rarely</td>\n",
       "      <td>Research &amp; Development</td>\n",
       "      <td>10</td>\n",
       "      <td>1</td>\n",
       "      <td>...</td>\n",
       "      <td>12</td>\n",
       "      <td>8</td>\n",
       "      <td>2</td>\n",
       "      <td>9.0</td>\n",
       "      <td>2</td>\n",
       "      <td>6</td>\n",
       "      <td>0</td>\n",
       "      <td>4</td>\n",
       "      <td>3</td>\n",
       "      <td>3</td>\n",
       "    </tr>\n",
       "  </tbody>\n",
       "</table>\n",
       "<p>5 rows × 29 columns</p>\n",
       "</div>"
      ],
      "text/plain": [
       "   EmployeeID  EnvironmentSatisfaction  JobSatisfaction  WorkLifeBalance  Age  \\\n",
       "0           1                      3.0              4.0              2.0   51   \n",
       "1           2                      3.0              2.0              4.0   31   \n",
       "2           3                      2.0              2.0              1.0   32   \n",
       "3           4                      4.0              4.0              3.0   38   \n",
       "4           5                      4.0              1.0              3.0   32   \n",
       "\n",
       "  Attrition     BusinessTravel              Department  DistanceFromHome  \\\n",
       "0        No      Travel_Rarely                   Sales                 6   \n",
       "1       Yes  Travel_Frequently  Research & Development                10   \n",
       "2        No  Travel_Frequently  Research & Development                17   \n",
       "3        No         Non-Travel  Research & Development                 2   \n",
       "4        No      Travel_Rarely  Research & Development                10   \n",
       "\n",
       "   Education  ... PercentSalaryHike  StandardHours StockOptionLevel  \\\n",
       "0          2  ...                11              8                0   \n",
       "1          1  ...                23              8                1   \n",
       "2          4  ...                15              8                3   \n",
       "3          5  ...                11              8                3   \n",
       "4          1  ...                12              8                2   \n",
       "\n",
       "   TotalWorkingYears TrainingTimesLastYear YearsAtCompany  \\\n",
       "0                1.0                     6              1   \n",
       "1                6.0                     3              5   \n",
       "2                5.0                     2              5   \n",
       "3               13.0                     5              8   \n",
       "4                9.0                     2              6   \n",
       "\n",
       "   YearsSinceLastPromotion  YearsWithCurrManager JobInvolvement  \\\n",
       "0                        0                     0              3   \n",
       "1                        1                     4              2   \n",
       "2                        0                     3              3   \n",
       "3                        7                     5              2   \n",
       "4                        0                     4              3   \n",
       "\n",
       "   PerformanceRating  \n",
       "0                  3  \n",
       "1                  4  \n",
       "2                  3  \n",
       "3                  3  \n",
       "4                  3  \n",
       "\n",
       "[5 rows x 29 columns]"
      ]
     },
     "execution_count": 46,
     "metadata": {},
     "output_type": "execute_result"
    }
   ],
   "source": [
    "employee_and_general_merged = employee_survey_data.merge(general_data, on='EmployeeID')\n",
    "employee_and_manager_merged = employee_and_general_merged.merge(manager_survey_data, on='EmployeeID')\n",
    "\n",
    "data_merged = employee_and_manager_merged.copy()\n",
    "data_merged.head()"
   ]
  },
  {
   "attachments": {},
   "cell_type": "markdown",
   "id": "3e042abf",
   "metadata": {},
   "source": [
    "Maintenant que nous avons fusionné les trois premiers DataFrames, il est temps d'examiner de plus près les DataFrames <strong>\"in_time_data\"</strong> et <strong>\"out_time_data\"</strong> et de voir comment les fusionner avec les autres."
   ]
  },
  {
   "cell_type": "code",
   "execution_count": 57,
   "id": "c35449d3",
   "metadata": {},
   "outputs": [
    {
     "data": {
      "text/html": [
       "<div>\n",
       "<style scoped>\n",
       "    .dataframe tbody tr th:only-of-type {\n",
       "        vertical-align: middle;\n",
       "    }\n",
       "\n",
       "    .dataframe tbody tr th {\n",
       "        vertical-align: top;\n",
       "    }\n",
       "\n",
       "    .dataframe thead th {\n",
       "        text-align: right;\n",
       "    }\n",
       "</style>\n",
       "<table border=\"1\" class=\"dataframe\">\n",
       "  <thead>\n",
       "    <tr style=\"text-align: right;\">\n",
       "      <th></th>\n",
       "      <th>Unnamed: 0</th>\n",
       "      <th>2015-01-01</th>\n",
       "      <th>2015-01-02</th>\n",
       "      <th>2015-01-05</th>\n",
       "      <th>2015-01-06</th>\n",
       "      <th>2015-01-07</th>\n",
       "      <th>2015-01-08</th>\n",
       "      <th>2015-01-09</th>\n",
       "      <th>2015-01-12</th>\n",
       "      <th>2015-01-13</th>\n",
       "      <th>...</th>\n",
       "      <th>2015-12-18</th>\n",
       "      <th>2015-12-21</th>\n",
       "      <th>2015-12-22</th>\n",
       "      <th>2015-12-23</th>\n",
       "      <th>2015-12-24</th>\n",
       "      <th>2015-12-25</th>\n",
       "      <th>2015-12-28</th>\n",
       "      <th>2015-12-29</th>\n",
       "      <th>2015-12-30</th>\n",
       "      <th>2015-12-31</th>\n",
       "    </tr>\n",
       "  </thead>\n",
       "  <tbody>\n",
       "    <tr>\n",
       "      <th>0</th>\n",
       "      <td>1</td>\n",
       "      <td>NaN</td>\n",
       "      <td>2015-01-02 16:56:15</td>\n",
       "      <td>2015-01-05 17:20:11</td>\n",
       "      <td>2015-01-06 17:19:05</td>\n",
       "      <td>2015-01-07 16:34:55</td>\n",
       "      <td>2015-01-08 17:08:32</td>\n",
       "      <td>2015-01-09 17:38:29</td>\n",
       "      <td>2015-01-12 16:58:39</td>\n",
       "      <td>2015-01-13 18:02:58</td>\n",
       "      <td>...</td>\n",
       "      <td>NaN</td>\n",
       "      <td>2015-12-21 17:15:50</td>\n",
       "      <td>2015-12-22 17:27:51</td>\n",
       "      <td>2015-12-23 16:44:44</td>\n",
       "      <td>2015-12-24 17:47:22</td>\n",
       "      <td>NaN</td>\n",
       "      <td>2015-12-28 18:00:07</td>\n",
       "      <td>2015-12-29 17:22:30</td>\n",
       "      <td>2015-12-30 17:40:56</td>\n",
       "      <td>2015-12-31 17:17:33</td>\n",
       "    </tr>\n",
       "  </tbody>\n",
       "</table>\n",
       "<p>1 rows × 262 columns</p>\n",
       "</div>"
      ],
      "text/plain": [
       "   Unnamed: 0  2015-01-01           2015-01-02           2015-01-05  \\\n",
       "0           1         NaN  2015-01-02 16:56:15  2015-01-05 17:20:11   \n",
       "\n",
       "            2015-01-06           2015-01-07           2015-01-08  \\\n",
       "0  2015-01-06 17:19:05  2015-01-07 16:34:55  2015-01-08 17:08:32   \n",
       "\n",
       "            2015-01-09           2015-01-12           2015-01-13  ...  \\\n",
       "0  2015-01-09 17:38:29  2015-01-12 16:58:39  2015-01-13 18:02:58  ...   \n",
       "\n",
       "   2015-12-18           2015-12-21           2015-12-22           2015-12-23  \\\n",
       "0         NaN  2015-12-21 17:15:50  2015-12-22 17:27:51  2015-12-23 16:44:44   \n",
       "\n",
       "            2015-12-24 2015-12-25           2015-12-28           2015-12-29  \\\n",
       "0  2015-12-24 17:47:22        NaN  2015-12-28 18:00:07  2015-12-29 17:22:30   \n",
       "\n",
       "            2015-12-30           2015-12-31  \n",
       "0  2015-12-30 17:40:56  2015-12-31 17:17:33  \n",
       "\n",
       "[1 rows x 262 columns]"
      ]
     },
     "execution_count": 57,
     "metadata": {},
     "output_type": "execute_result"
    }
   ],
   "source": [
    "in_time_data.head(1)"
   ]
  },
  {
   "cell_type": "code",
   "execution_count": 68,
   "id": "80d2e239",
   "metadata": {},
   "outputs": [
    {
     "name": "stdout",
     "output_type": "stream",
     "text": [
      "<class 'pandas.core.frame.DataFrame'>\n",
      "RangeIndex: 4410 entries, 0 to 4409\n",
      "Columns: 262 entries, Unnamed: 0 to 2015-12-31\n",
      "dtypes: float64(12), int64(1), object(249)\n",
      "memory usage: 8.8+ MB\n"
     ]
    }
   ],
   "source": [
    "out_time_data.info()"
   ]
  },
  {
   "attachments": {},
   "cell_type": "markdown",
   "id": "4da3e6b5",
   "metadata": {},
   "source": [
    "Les jeux de données que nous avons à disposition contiennent les heures d'arrivée et de départ des employés pour tous les jours de l'année. \n",
    "\n",
    "Nous avons remarqué deux choses : \n",
    " - La présence de valeurs indefinies \"NaN\"\n",
    " - Les données sont au format float64(12), int64(1) et object(249)"
   ]
  },
  {
   "attachments": {},
   "cell_type": "markdown",
   "id": "df963f20",
   "metadata": {},
   "source": [
    "Dans cette partie de code, nous avons commencé par remplacer toutes les valeurs (NaN) par zéro dans ces DataFrames à l'aide de la méthode fillna() de pandas.\n",
    "\n",
    "Nous avons ensuite créé une fonction que nous avons nommé <strong>\"convert_to_datetime()\"</strong> qui prend un DataFrame en entrée et convertit toutes les colonnes sauf la première (qui est supposée être l'ID de l'employé \"EmployeeID) en format de date et heure (DateTime)."
   ]
  },
  {
   "cell_type": "code",
   "execution_count": 60,
   "id": "687b4475",
   "metadata": {},
   "outputs": [
    {
     "name": "stdout",
     "output_type": "stream",
     "text": [
      "<class 'pandas.core.frame.DataFrame'>\n",
      "RangeIndex: 4410 entries, 0 to 4409\n",
      "Columns: 262 entries, Unnamed: 0 to 2015-12-31\n",
      "dtypes: datetime64[ns](261), int64(1)\n",
      "memory usage: 8.8 MB\n"
     ]
    }
   ],
   "source": [
    "data_in_time = in_time_data.fillna(0)\n",
    "data_out_time= out_time_data.fillna(0)\n",
    "\n",
    "def convert_to_datetime(dataFrame):\n",
    "    for date in dataFrame.columns[1:]:\n",
    "        dataFrame[date] = pd.to_datetime(dataFrame[date])\n",
    "    return dataFrame\n",
    "\n",
    "data_in_time  = convert_to_datetime(data_in_time)\n",
    "data_out_time = convert_to_datetime(data_out_time)\n",
    "data_in_time.info()"
   ]
  },
  {
   "attachments": {},
   "cell_type": "markdown",
   "id": "4e7656b9",
   "metadata": {},
   "source": [
    "Une fois que nous avons converti le type au format DateTime nous pouvant ainsi calculer le temps passé en entreprise pour chaque employé. \n",
    "\n",
    "Pour cela, nous avons créé un nouveau DataFrame appelé <strong>\"working_time\"</strong> en soustrayant les horaires d'entrée des horaires de sortie pour chaque employé \n",
    "\n",
    "Nous avons aussi supprimé une colonne inutile nommée \"Unnamed: 0\"."
   ]
  },
  {
   "cell_type": "code",
   "execution_count": 49,
   "id": "87c380db",
   "metadata": {},
   "outputs": [
    {
     "data": {
      "text/html": [
       "<div>\n",
       "<style scoped>\n",
       "    .dataframe tbody tr th:only-of-type {\n",
       "        vertical-align: middle;\n",
       "    }\n",
       "\n",
       "    .dataframe tbody tr th {\n",
       "        vertical-align: top;\n",
       "    }\n",
       "\n",
       "    .dataframe thead th {\n",
       "        text-align: right;\n",
       "    }\n",
       "</style>\n",
       "<table border=\"1\" class=\"dataframe\">\n",
       "  <thead>\n",
       "    <tr style=\"text-align: right;\">\n",
       "      <th></th>\n",
       "      <th>2015-01-01</th>\n",
       "      <th>2015-01-02</th>\n",
       "      <th>2015-01-05</th>\n",
       "      <th>2015-01-06</th>\n",
       "      <th>2015-01-07</th>\n",
       "      <th>2015-01-08</th>\n",
       "      <th>2015-01-09</th>\n",
       "      <th>2015-01-12</th>\n",
       "      <th>2015-01-13</th>\n",
       "      <th>2015-01-14</th>\n",
       "      <th>...</th>\n",
       "      <th>2015-12-18</th>\n",
       "      <th>2015-12-21</th>\n",
       "      <th>2015-12-22</th>\n",
       "      <th>2015-12-23</th>\n",
       "      <th>2015-12-24</th>\n",
       "      <th>2015-12-25</th>\n",
       "      <th>2015-12-28</th>\n",
       "      <th>2015-12-29</th>\n",
       "      <th>2015-12-30</th>\n",
       "      <th>2015-12-31</th>\n",
       "    </tr>\n",
       "  </thead>\n",
       "  <tbody>\n",
       "    <tr>\n",
       "      <th>0</th>\n",
       "      <td>0 days</td>\n",
       "      <td>0 days 07:12:30</td>\n",
       "      <td>0 days 07:11:23</td>\n",
       "      <td>0 days 07:24:39</td>\n",
       "      <td>0 days 07:00:24</td>\n",
       "      <td>0 days 07:17:23</td>\n",
       "      <td>0 days 07:29:04</td>\n",
       "      <td>0 days 07:15:46</td>\n",
       "      <td>0 days 07:49:52</td>\n",
       "      <td>0 days</td>\n",
       "      <td>...</td>\n",
       "      <td>0 days 00:00:00</td>\n",
       "      <td>0 days 07:20:21</td>\n",
       "      <td>0 days 07:23:45</td>\n",
       "      <td>0 days 06:30:17</td>\n",
       "      <td>0 days 07:35:47</td>\n",
       "      <td>0 days</td>\n",
       "      <td>0 days 07:46:26</td>\n",
       "      <td>0 days 07:18:54</td>\n",
       "      <td>0 days 07:46:44</td>\n",
       "      <td>0 days 07:04:49</td>\n",
       "    </tr>\n",
       "    <tr>\n",
       "      <th>1</th>\n",
       "      <td>0 days</td>\n",
       "      <td>0 days 08:06:33</td>\n",
       "      <td>0 days 07:27:17</td>\n",
       "      <td>0 days 00:00:00</td>\n",
       "      <td>0 days 07:23:49</td>\n",
       "      <td>0 days 07:25:00</td>\n",
       "      <td>0 days 07:09:03</td>\n",
       "      <td>0 days 07:36:41</td>\n",
       "      <td>0 days 07:16:44</td>\n",
       "      <td>0 days</td>\n",
       "      <td>...</td>\n",
       "      <td>0 days 07:54:11</td>\n",
       "      <td>0 days 07:45:14</td>\n",
       "      <td>0 days 07:42:44</td>\n",
       "      <td>0 days 07:26:08</td>\n",
       "      <td>0 days 00:00:00</td>\n",
       "      <td>0 days</td>\n",
       "      <td>0 days 07:36:53</td>\n",
       "      <td>0 days 07:58:57</td>\n",
       "      <td>0 days 07:59:10</td>\n",
       "      <td>0 days 08:13:38</td>\n",
       "    </tr>\n",
       "    <tr>\n",
       "      <th>2</th>\n",
       "      <td>0 days</td>\n",
       "      <td>0 days 06:41:33</td>\n",
       "      <td>0 days 07:15:56</td>\n",
       "      <td>0 days 06:24:19</td>\n",
       "      <td>0 days 06:45:54</td>\n",
       "      <td>0 days 07:20:42</td>\n",
       "      <td>0 days 06:51:41</td>\n",
       "      <td>0 days 07:25:07</td>\n",
       "      <td>0 days 06:59:59</td>\n",
       "      <td>0 days</td>\n",
       "      <td>...</td>\n",
       "      <td>0 days 06:47:09</td>\n",
       "      <td>0 days 07:09:49</td>\n",
       "      <td>0 days 06:48:06</td>\n",
       "      <td>0 days 06:43:49</td>\n",
       "      <td>0 days 06:50:59</td>\n",
       "      <td>0 days</td>\n",
       "      <td>0 days 07:01:26</td>\n",
       "      <td>0 days 07:26:20</td>\n",
       "      <td>0 days 07:32:20</td>\n",
       "      <td>0 days 06:47:11</td>\n",
       "    </tr>\n",
       "    <tr>\n",
       "      <th>3</th>\n",
       "      <td>0 days</td>\n",
       "      <td>0 days 07:20:18</td>\n",
       "      <td>0 days 07:17:31</td>\n",
       "      <td>0 days 06:56:35</td>\n",
       "      <td>0 days 06:55:10</td>\n",
       "      <td>0 days 06:51:03</td>\n",
       "      <td>0 days 07:11:35</td>\n",
       "      <td>0 days 06:59:55</td>\n",
       "      <td>0 days 07:18:23</td>\n",
       "      <td>0 days</td>\n",
       "      <td>...</td>\n",
       "      <td>0 days 07:37:45</td>\n",
       "      <td>0 days 06:50:48</td>\n",
       "      <td>0 days 07:19:35</td>\n",
       "      <td>0 days 07:24:49</td>\n",
       "      <td>0 days 07:05:06</td>\n",
       "      <td>0 days</td>\n",
       "      <td>0 days 07:26:50</td>\n",
       "      <td>0 days 07:25:00</td>\n",
       "      <td>0 days 07:21:59</td>\n",
       "      <td>0 days 07:07:59</td>\n",
       "    </tr>\n",
       "    <tr>\n",
       "      <th>4</th>\n",
       "      <td>0 days</td>\n",
       "      <td>0 days 08:03:20</td>\n",
       "      <td>0 days 07:59:17</td>\n",
       "      <td>0 days 07:40:57</td>\n",
       "      <td>0 days 07:48:22</td>\n",
       "      <td>0 days 07:39:44</td>\n",
       "      <td>0 days 07:43:18</td>\n",
       "      <td>0 days 08:21:54</td>\n",
       "      <td>0 days 08:15:26</td>\n",
       "      <td>0 days</td>\n",
       "      <td>...</td>\n",
       "      <td>0 days 07:54:13</td>\n",
       "      <td>0 days 07:39:54</td>\n",
       "      <td>0 days 07:57:27</td>\n",
       "      <td>0 days 07:47:13</td>\n",
       "      <td>0 days 08:14:58</td>\n",
       "      <td>0 days</td>\n",
       "      <td>0 days 07:39:44</td>\n",
       "      <td>0 days 08:16:07</td>\n",
       "      <td>0 days 07:57:12</td>\n",
       "      <td>0 days 08:01:05</td>\n",
       "    </tr>\n",
       "  </tbody>\n",
       "</table>\n",
       "<p>5 rows × 261 columns</p>\n",
       "</div>"
      ],
      "text/plain": [
       "  2015-01-01      2015-01-02      2015-01-05      2015-01-06      2015-01-07  \\\n",
       "0     0 days 0 days 07:12:30 0 days 07:11:23 0 days 07:24:39 0 days 07:00:24   \n",
       "1     0 days 0 days 08:06:33 0 days 07:27:17 0 days 00:00:00 0 days 07:23:49   \n",
       "2     0 days 0 days 06:41:33 0 days 07:15:56 0 days 06:24:19 0 days 06:45:54   \n",
       "3     0 days 0 days 07:20:18 0 days 07:17:31 0 days 06:56:35 0 days 06:55:10   \n",
       "4     0 days 0 days 08:03:20 0 days 07:59:17 0 days 07:40:57 0 days 07:48:22   \n",
       "\n",
       "       2015-01-08      2015-01-09      2015-01-12      2015-01-13 2015-01-14  \\\n",
       "0 0 days 07:17:23 0 days 07:29:04 0 days 07:15:46 0 days 07:49:52     0 days   \n",
       "1 0 days 07:25:00 0 days 07:09:03 0 days 07:36:41 0 days 07:16:44     0 days   \n",
       "2 0 days 07:20:42 0 days 06:51:41 0 days 07:25:07 0 days 06:59:59     0 days   \n",
       "3 0 days 06:51:03 0 days 07:11:35 0 days 06:59:55 0 days 07:18:23     0 days   \n",
       "4 0 days 07:39:44 0 days 07:43:18 0 days 08:21:54 0 days 08:15:26     0 days   \n",
       "\n",
       "   ...      2015-12-18      2015-12-21      2015-12-22      2015-12-23  \\\n",
       "0  ... 0 days 00:00:00 0 days 07:20:21 0 days 07:23:45 0 days 06:30:17   \n",
       "1  ... 0 days 07:54:11 0 days 07:45:14 0 days 07:42:44 0 days 07:26:08   \n",
       "2  ... 0 days 06:47:09 0 days 07:09:49 0 days 06:48:06 0 days 06:43:49   \n",
       "3  ... 0 days 07:37:45 0 days 06:50:48 0 days 07:19:35 0 days 07:24:49   \n",
       "4  ... 0 days 07:54:13 0 days 07:39:54 0 days 07:57:27 0 days 07:47:13   \n",
       "\n",
       "       2015-12-24 2015-12-25      2015-12-28      2015-12-29      2015-12-30  \\\n",
       "0 0 days 07:35:47     0 days 0 days 07:46:26 0 days 07:18:54 0 days 07:46:44   \n",
       "1 0 days 00:00:00     0 days 0 days 07:36:53 0 days 07:58:57 0 days 07:59:10   \n",
       "2 0 days 06:50:59     0 days 0 days 07:01:26 0 days 07:26:20 0 days 07:32:20   \n",
       "3 0 days 07:05:06     0 days 0 days 07:26:50 0 days 07:25:00 0 days 07:21:59   \n",
       "4 0 days 08:14:58     0 days 0 days 07:39:44 0 days 08:16:07 0 days 07:57:12   \n",
       "\n",
       "       2015-12-31  \n",
       "0 0 days 07:04:49  \n",
       "1 0 days 08:13:38  \n",
       "2 0 days 06:47:11  \n",
       "3 0 days 07:07:59  \n",
       "4 0 days 08:01:05  \n",
       "\n",
       "[5 rows x 261 columns]"
      ]
     },
     "execution_count": 49,
     "metadata": {},
     "output_type": "execute_result"
    }
   ],
   "source": [
    "working_time = (data_out_time - data_in_time)\n",
    "working_time = working_time.drop(columns=['Unnamed: 0'])\n",
    "working_time.head()"
   ]
  },
  {
   "attachments": {},
   "cell_type": "markdown",
   "id": "a4db14eb",
   "metadata": {},
   "source": [
    "Dans le code ci-dessous, nous avons calculé la moyenne des temps de travail pour chaque employé en utilisant la méthode mean() de pandas."
   ]
  },
  {
   "cell_type": "code",
   "execution_count": 50,
   "id": "dfd4f0ef",
   "metadata": {},
   "outputs": [
    {
     "data": {
      "text/plain": [
       "0   0 days 07:22:25.142241379\n",
       "1   0 days 07:43:08.288135593\n",
       "2   0 days 07:00:47.665289256\n",
       "3   0 days 07:11:37.242553191\n",
       "4   0 days 08:00:22.228571428\n",
       "dtype: timedelta64[ns]"
      ]
     },
     "execution_count": 50,
     "metadata": {},
     "output_type": "execute_result"
    }
   ],
   "source": [
    "working_time = working_time.replace({\"0 days\": pd.NaT})\n",
    "working_time_mean = working_time.mean(axis=1)\n",
    "working_time_mean.head()"
   ]
  },
  {
   "attachments": {},
   "cell_type": "markdown",
   "id": "414c49bf",
   "metadata": {},
   "source": [
    "Enfin, nous avons ajouté une nouvelle colonne que nous avons appellé <strong>\"WorkingTime\"</strong>  a notre DataFrame data_merged, ainsi nous avons fusionner l'ensemble de nos données."
   ]
  },
  {
   "cell_type": "code",
   "execution_count": 51,
   "id": "bfa3d866",
   "metadata": {},
   "outputs": [
    {
     "data": {
      "text/html": [
       "<div>\n",
       "<style scoped>\n",
       "    .dataframe tbody tr th:only-of-type {\n",
       "        vertical-align: middle;\n",
       "    }\n",
       "\n",
       "    .dataframe tbody tr th {\n",
       "        vertical-align: top;\n",
       "    }\n",
       "\n",
       "    .dataframe thead th {\n",
       "        text-align: right;\n",
       "    }\n",
       "</style>\n",
       "<table border=\"1\" class=\"dataframe\">\n",
       "  <thead>\n",
       "    <tr style=\"text-align: right;\">\n",
       "      <th></th>\n",
       "      <th>EmployeeID</th>\n",
       "      <th>EnvironmentSatisfaction</th>\n",
       "      <th>JobSatisfaction</th>\n",
       "      <th>WorkLifeBalance</th>\n",
       "      <th>Age</th>\n",
       "      <th>Attrition</th>\n",
       "      <th>BusinessTravel</th>\n",
       "      <th>Department</th>\n",
       "      <th>DistanceFromHome</th>\n",
       "      <th>Education</th>\n",
       "      <th>...</th>\n",
       "      <th>StandardHours</th>\n",
       "      <th>StockOptionLevel</th>\n",
       "      <th>TotalWorkingYears</th>\n",
       "      <th>TrainingTimesLastYear</th>\n",
       "      <th>YearsAtCompany</th>\n",
       "      <th>YearsSinceLastPromotion</th>\n",
       "      <th>YearsWithCurrManager</th>\n",
       "      <th>JobInvolvement</th>\n",
       "      <th>PerformanceRating</th>\n",
       "      <th>WorkingTime</th>\n",
       "    </tr>\n",
       "  </thead>\n",
       "  <tbody>\n",
       "    <tr>\n",
       "      <th>0</th>\n",
       "      <td>1</td>\n",
       "      <td>3.0</td>\n",
       "      <td>4.0</td>\n",
       "      <td>2.0</td>\n",
       "      <td>51</td>\n",
       "      <td>No</td>\n",
       "      <td>Travel_Rarely</td>\n",
       "      <td>Sales</td>\n",
       "      <td>6</td>\n",
       "      <td>2</td>\n",
       "      <td>...</td>\n",
       "      <td>8</td>\n",
       "      <td>0</td>\n",
       "      <td>1.0</td>\n",
       "      <td>6</td>\n",
       "      <td>1</td>\n",
       "      <td>0</td>\n",
       "      <td>0</td>\n",
       "      <td>3</td>\n",
       "      <td>3</td>\n",
       "      <td>7.373651</td>\n",
       "    </tr>\n",
       "    <tr>\n",
       "      <th>1</th>\n",
       "      <td>2</td>\n",
       "      <td>3.0</td>\n",
       "      <td>2.0</td>\n",
       "      <td>4.0</td>\n",
       "      <td>31</td>\n",
       "      <td>Yes</td>\n",
       "      <td>Travel_Frequently</td>\n",
       "      <td>Research &amp; Development</td>\n",
       "      <td>10</td>\n",
       "      <td>1</td>\n",
       "      <td>...</td>\n",
       "      <td>8</td>\n",
       "      <td>1</td>\n",
       "      <td>6.0</td>\n",
       "      <td>3</td>\n",
       "      <td>5</td>\n",
       "      <td>1</td>\n",
       "      <td>4</td>\n",
       "      <td>2</td>\n",
       "      <td>4</td>\n",
       "      <td>7.718969</td>\n",
       "    </tr>\n",
       "    <tr>\n",
       "      <th>2</th>\n",
       "      <td>3</td>\n",
       "      <td>2.0</td>\n",
       "      <td>2.0</td>\n",
       "      <td>1.0</td>\n",
       "      <td>32</td>\n",
       "      <td>No</td>\n",
       "      <td>Travel_Frequently</td>\n",
       "      <td>Research &amp; Development</td>\n",
       "      <td>17</td>\n",
       "      <td>4</td>\n",
       "      <td>...</td>\n",
       "      <td>8</td>\n",
       "      <td>3</td>\n",
       "      <td>5.0</td>\n",
       "      <td>2</td>\n",
       "      <td>5</td>\n",
       "      <td>0</td>\n",
       "      <td>3</td>\n",
       "      <td>3</td>\n",
       "      <td>3</td>\n",
       "      <td>7.013240</td>\n",
       "    </tr>\n",
       "    <tr>\n",
       "      <th>3</th>\n",
       "      <td>4</td>\n",
       "      <td>4.0</td>\n",
       "      <td>4.0</td>\n",
       "      <td>3.0</td>\n",
       "      <td>38</td>\n",
       "      <td>No</td>\n",
       "      <td>Non-Travel</td>\n",
       "      <td>Research &amp; Development</td>\n",
       "      <td>2</td>\n",
       "      <td>5</td>\n",
       "      <td>...</td>\n",
       "      <td>8</td>\n",
       "      <td>3</td>\n",
       "      <td>13.0</td>\n",
       "      <td>5</td>\n",
       "      <td>8</td>\n",
       "      <td>7</td>\n",
       "      <td>5</td>\n",
       "      <td>2</td>\n",
       "      <td>3</td>\n",
       "      <td>7.193678</td>\n",
       "    </tr>\n",
       "    <tr>\n",
       "      <th>4</th>\n",
       "      <td>5</td>\n",
       "      <td>4.0</td>\n",
       "      <td>1.0</td>\n",
       "      <td>3.0</td>\n",
       "      <td>32</td>\n",
       "      <td>No</td>\n",
       "      <td>Travel_Rarely</td>\n",
       "      <td>Research &amp; Development</td>\n",
       "      <td>10</td>\n",
       "      <td>1</td>\n",
       "      <td>...</td>\n",
       "      <td>8</td>\n",
       "      <td>2</td>\n",
       "      <td>9.0</td>\n",
       "      <td>2</td>\n",
       "      <td>6</td>\n",
       "      <td>0</td>\n",
       "      <td>4</td>\n",
       "      <td>3</td>\n",
       "      <td>3</td>\n",
       "      <td>8.006175</td>\n",
       "    </tr>\n",
       "  </tbody>\n",
       "</table>\n",
       "<p>5 rows × 30 columns</p>\n",
       "</div>"
      ],
      "text/plain": [
       "   EmployeeID  EnvironmentSatisfaction  JobSatisfaction  WorkLifeBalance  Age  \\\n",
       "0           1                      3.0              4.0              2.0   51   \n",
       "1           2                      3.0              2.0              4.0   31   \n",
       "2           3                      2.0              2.0              1.0   32   \n",
       "3           4                      4.0              4.0              3.0   38   \n",
       "4           5                      4.0              1.0              3.0   32   \n",
       "\n",
       "  Attrition     BusinessTravel              Department  DistanceFromHome  \\\n",
       "0        No      Travel_Rarely                   Sales                 6   \n",
       "1       Yes  Travel_Frequently  Research & Development                10   \n",
       "2        No  Travel_Frequently  Research & Development                17   \n",
       "3        No         Non-Travel  Research & Development                 2   \n",
       "4        No      Travel_Rarely  Research & Development                10   \n",
       "\n",
       "   Education  ... StandardHours  StockOptionLevel TotalWorkingYears  \\\n",
       "0          2  ...             8                 0               1.0   \n",
       "1          1  ...             8                 1               6.0   \n",
       "2          4  ...             8                 3               5.0   \n",
       "3          5  ...             8                 3              13.0   \n",
       "4          1  ...             8                 2               9.0   \n",
       "\n",
       "   TrainingTimesLastYear YearsAtCompany YearsSinceLastPromotion  \\\n",
       "0                      6              1                       0   \n",
       "1                      3              5                       1   \n",
       "2                      2              5                       0   \n",
       "3                      5              8                       7   \n",
       "4                      2              6                       0   \n",
       "\n",
       "   YearsWithCurrManager  JobInvolvement PerformanceRating  WorkingTime  \n",
       "0                     0               3                 3     7.373651  \n",
       "1                     4               2                 4     7.718969  \n",
       "2                     3               3                 3     7.013240  \n",
       "3                     5               2                 3     7.193678  \n",
       "4                     4               3                 3     8.006175  \n",
       "\n",
       "[5 rows x 30 columns]"
      ]
     },
     "execution_count": 51,
     "metadata": {},
     "output_type": "execute_result"
    }
   ],
   "source": [
    "data_merged['WorkingTime'] = working_time_mean.dt.total_seconds() / 3600\n",
    "data_merged.head()"
   ]
  },
  {
   "cell_type": "code",
   "execution_count": 86,
   "id": "296e3f04",
   "metadata": {},
   "outputs": [
    {
     "data": {
      "text/plain": [
       "(4410, 27)"
      ]
     },
     "execution_count": 86,
     "metadata": {},
     "output_type": "execute_result"
    }
   ],
   "source": [
    "data_merged.shape"
   ]
  },
  {
   "cell_type": "code",
   "execution_count": 83,
   "id": "d6ec1f9a",
   "metadata": {},
   "outputs": [
    {
     "data": {
      "text/plain": [
       "Text(0.5, 1.0, 'Proportion de turn-over')"
      ]
     },
     "execution_count": 83,
     "metadata": {},
     "output_type": "execute_result"
    },
    {
     "data": {
      "image/png": "[encoded data removed]",
      "text/plain": [
       "<Figure size 432x288 with 1 Axes>"
      ]
     },
     "metadata": {
      "needs_background": "light"
     },
     "output_type": "display_data"
    }
   ],
   "source": [
    "plt.hist(data_merged[\"Attrition\"], range = (0, 2), bins = 5, edgecolor = 'black') \n",
    "\n",
    "plt.xlabel('Attrition')\n",
    "plt.title(\"Proportion de turn-over\")"
   ]
  },
  {
   "cell_type": "code",
   "execution_count": 78,
   "id": "a4274ec4",
   "metadata": {},
   "outputs": [
    {
     "data": {
      "image/png": "[encoded data removed]",
      "text/plain": [
       "<Figure size 432x288 with 1 Axes>"
      ]
     },
     "metadata": {},
     "output_type": "display_data"
    }
   ],
   "source": [
    "\n",
    "# Compter les valeurs uniques dans la colonne Attrition\n",
    "values = data_merged['Attrition'].value_counts().sort_index().values.tolist()\n",
    "\n",
    "labels = ['No', 'Yes']\n",
    "colors = ['#008fd5', '#fc4f30']\n",
    "fig, ax = plt.subplots()\n",
    "ax.pie(values, labels=labels, colors=colors)\n",
    "centre_circle = plt.Circle((0,0),0.5,color='white', fc='white',linewidth=1.25)\n",
    "fig.gca().add_artist(centre_circle)\n",
    "\n",
    "plt.title(\"Proportion de turn-over\")\n",
    "plt.show()\n"
   ]
  },
  {
   "cell_type": "code",
   "execution_count": 73,
   "id": "f39455ae",
   "metadata": {},
   "outputs": [
    {
     "data": {
      "image/png": "[encoded data removed]",
      "text/plain": [
       "<Figure size 1080x1080 with 20 Axes>"
      ]
     },
     "metadata": {
      "needs_background": "light"
     },
     "output_type": "display_data"
    }
   ],
   "source": [
    "data_merged.hist(bins=50, figsize=(15, 15))\n",
    "plt.show()"
   ]
  },
  {
   "cell_type": "code",
   "execution_count": 52,
   "id": "4c38dc26",
   "metadata": {},
   "outputs": [
    {
     "name": "stdout",
     "output_type": "stream",
     "text": [
      "EmployeeCount\n",
      "Over18\n",
      "StandardHours\n"
     ]
    }
   ],
   "source": [
    "# Suppression des colonne contenant des données non pertinante\n",
    "def drop_irrelevant_data(dataFrame):\n",
    "    deleted_columns = []\n",
    "    for column in dataFrame:\n",
    "        if dataFrame[column].value_counts().shape[0] == 1:\n",
    "            deleted_columns.append(column)\n",
    "            dataFrame.drop(column, axis=1,inplace=True)\n",
    "            print(column)\n",
    "\n",
    "drop_irrelevant_data(data_merged)"
   ]
  },
  {
   "attachments": {},
   "cell_type": "markdown",
   "id": "f690bec7",
   "metadata": {},
   "source": [
    " "
   ]
  },
  {
   "cell_type": "code",
   "execution_count": 54,
   "id": "4f6db5d0",
   "metadata": {},
   "outputs": [
    {
     "name": "stdout",
     "output_type": "stream",
     "text": [
      "Colonnes qualitatives :  ['Attrition', 'BusinessTravel', 'Department', 'EducationField', 'Gender', 'JobRole', 'MaritalStatus']\n"
     ]
    }
   ],
   "source": [
    "qualitative_columns = data_merged.select_dtypes(include='object').columns.tolist()\n",
    "print(\"Colonnes qualitatives : \", qualitative_columns)"
   ]
  },
  {
   "cell_type": "code",
   "execution_count": 56,
   "id": "2428ec23",
   "metadata": {},
   "outputs": [
    {
     "data": {
      "text/plain": [
       "No     3699\n",
       "Yes     711\n",
       "Name: Attrition, dtype: int64"
      ]
     },
     "execution_count": 56,
     "metadata": {},
     "output_type": "execute_result"
    }
   ],
   "source": [
    "data_merged['Attrition'].value_counts()"
   ]
  }
 ],
 "metadata": {
  "kernelspec": {
   "display_name": "Python 3",
   "language": "python",
   "name": "python3"
  },
  "language_info": {
   "codemirror_mode": {
    "name": "ipython",
    "version": 3
   },
   "file_extension": ".py",
   "mimetype": "text/x-python",
   "name": "python",
   "nbconvert_exporter": "python",
   "pygments_lexer": "ipython3",
   "version": "3.10.10"
  }
 },
 "nbformat": 4,
 "nbformat_minor": 5
}
